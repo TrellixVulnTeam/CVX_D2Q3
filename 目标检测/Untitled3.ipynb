{
 "cells": [
  {
   "cell_type": "code",
   "execution_count": 1,
   "metadata": {},
   "outputs": [],
   "source": [
    "scales = [8, 16, 32]  # 尺度，面积比\n",
    "ratios = [0.5, 1, 2]  # 高宽比率（aspect ratios）\n",
    "base_size = 16"
   ]
  },
  {
   "cell_type": "code",
   "execution_count": 2,
   "metadata": {},
   "outputs": [
    {
     "ename": "OSError",
     "evalue": "[WinError 1455] 页面文件太小，无法完成操作。",
     "output_type": "error",
     "traceback": [
      "\u001b[1;31m---------------------------------------------------------------------------\u001b[0m",
      "\u001b[1;31mOSError\u001b[0m                                   Traceback (most recent call last)",
      "\u001b[1;32m<ipython-input-2-403506fc02a1>\u001b[0m in \u001b[0;36m<module>\u001b[1;34m\u001b[0m\n\u001b[1;32m----> 1\u001b[1;33m \u001b[1;32mfrom\u001b[0m \u001b[0mmxnet\u001b[0m \u001b[1;32mimport\u001b[0m \u001b[0mgluon\u001b[0m\u001b[1;33m\u001b[0m\u001b[0m\n\u001b[0m\u001b[0;32m      2\u001b[0m \u001b[1;32mimport\u001b[0m \u001b[0mnumpy\u001b[0m \u001b[1;32mas\u001b[0m \u001b[0mnp\u001b[0m\u001b[1;33m\u001b[0m\u001b[0m\n",
      "\u001b[1;32m~\\Anaconda3\\envs\\gluoncv\\lib\\site-packages\\mxnet\\__init__.py\u001b[0m in \u001b[0;36m<module>\u001b[1;34m\u001b[0m\n\u001b[0;32m     22\u001b[0m \u001b[1;32mfrom\u001b[0m \u001b[0m__future__\u001b[0m \u001b[1;32mimport\u001b[0m \u001b[0mabsolute_import\u001b[0m\u001b[1;33m\u001b[0m\u001b[0m\n\u001b[0;32m     23\u001b[0m \u001b[1;33m\u001b[0m\u001b[0m\n\u001b[1;32m---> 24\u001b[1;33m \u001b[1;32mfrom\u001b[0m \u001b[1;33m.\u001b[0m\u001b[0mcontext\u001b[0m \u001b[1;32mimport\u001b[0m \u001b[0mContext\u001b[0m\u001b[1;33m,\u001b[0m \u001b[0mcurrent_context\u001b[0m\u001b[1;33m,\u001b[0m \u001b[0mcpu\u001b[0m\u001b[1;33m,\u001b[0m \u001b[0mgpu\u001b[0m\u001b[1;33m,\u001b[0m \u001b[0mcpu_pinned\u001b[0m\u001b[1;33m\u001b[0m\u001b[0m\n\u001b[0m\u001b[0;32m     25\u001b[0m \u001b[1;32mfrom\u001b[0m \u001b[1;33m.\u001b[0m \u001b[1;32mimport\u001b[0m \u001b[0mengine\u001b[0m\u001b[1;33m\u001b[0m\u001b[0m\n\u001b[0;32m     26\u001b[0m \u001b[1;32mfrom\u001b[0m \u001b[1;33m.\u001b[0m\u001b[0mbase\u001b[0m \u001b[1;32mimport\u001b[0m \u001b[0mMXNetError\u001b[0m\u001b[1;33m\u001b[0m\u001b[0m\n",
      "\u001b[1;32m~\\Anaconda3\\envs\\gluoncv\\lib\\site-packages\\mxnet\\context.py\u001b[0m in \u001b[0;36m<module>\u001b[1;34m\u001b[0m\n\u001b[0;32m     22\u001b[0m \u001b[1;32mimport\u001b[0m \u001b[0mwarnings\u001b[0m\u001b[1;33m\u001b[0m\u001b[0m\n\u001b[0;32m     23\u001b[0m \u001b[1;32mimport\u001b[0m \u001b[0mctypes\u001b[0m\u001b[1;33m\u001b[0m\u001b[0m\n\u001b[1;32m---> 24\u001b[1;33m \u001b[1;32mfrom\u001b[0m \u001b[1;33m.\u001b[0m\u001b[0mbase\u001b[0m \u001b[1;32mimport\u001b[0m \u001b[0mclassproperty\u001b[0m\u001b[1;33m,\u001b[0m \u001b[0mwith_metaclass\u001b[0m\u001b[1;33m,\u001b[0m \u001b[0m_MXClassPropertyMetaClass\u001b[0m\u001b[1;33m\u001b[0m\u001b[0m\n\u001b[0m\u001b[0;32m     25\u001b[0m \u001b[1;32mfrom\u001b[0m \u001b[1;33m.\u001b[0m\u001b[0mbase\u001b[0m \u001b[1;32mimport\u001b[0m \u001b[0m_LIB\u001b[0m\u001b[1;33m\u001b[0m\u001b[0m\n\u001b[0;32m     26\u001b[0m \u001b[1;32mfrom\u001b[0m \u001b[1;33m.\u001b[0m\u001b[0mbase\u001b[0m \u001b[1;32mimport\u001b[0m \u001b[0mcheck_call\u001b[0m\u001b[1;33m\u001b[0m\u001b[0m\n",
      "\u001b[1;32m~\\Anaconda3\\envs\\gluoncv\\lib\\site-packages\\mxnet\\base.py\u001b[0m in \u001b[0;36m<module>\u001b[1;34m\u001b[0m\n\u001b[0;32m    211\u001b[0m \u001b[0m__version__\u001b[0m \u001b[1;33m=\u001b[0m \u001b[0mlibinfo\u001b[0m\u001b[1;33m.\u001b[0m\u001b[0m__version__\u001b[0m\u001b[1;33m\u001b[0m\u001b[0m\n\u001b[0;32m    212\u001b[0m \u001b[1;31m# library instance of mxnet\u001b[0m\u001b[1;33m\u001b[0m\u001b[1;33m\u001b[0m\u001b[0m\n\u001b[1;32m--> 213\u001b[1;33m \u001b[0m_LIB\u001b[0m \u001b[1;33m=\u001b[0m \u001b[0m_load_lib\u001b[0m\u001b[1;33m(\u001b[0m\u001b[1;33m)\u001b[0m\u001b[1;33m\u001b[0m\u001b[0m\n\u001b[0m\u001b[0;32m    214\u001b[0m \u001b[1;33m\u001b[0m\u001b[0m\n\u001b[0;32m    215\u001b[0m \u001b[1;31m# type definitions\u001b[0m\u001b[1;33m\u001b[0m\u001b[1;33m\u001b[0m\u001b[0m\n",
      "\u001b[1;32m~\\Anaconda3\\envs\\gluoncv\\lib\\site-packages\\mxnet\\base.py\u001b[0m in \u001b[0;36m_load_lib\u001b[1;34m()\u001b[0m\n\u001b[0;32m    202\u001b[0m     \u001b[1;34m\"\"\"Load library by searching possible path.\"\"\"\u001b[0m\u001b[1;33m\u001b[0m\u001b[0m\n\u001b[0;32m    203\u001b[0m     \u001b[0mlib_path\u001b[0m \u001b[1;33m=\u001b[0m \u001b[0mlibinfo\u001b[0m\u001b[1;33m.\u001b[0m\u001b[0mfind_lib_path\u001b[0m\u001b[1;33m(\u001b[0m\u001b[1;33m)\u001b[0m\u001b[1;33m\u001b[0m\u001b[0m\n\u001b[1;32m--> 204\u001b[1;33m     \u001b[0mlib\u001b[0m \u001b[1;33m=\u001b[0m \u001b[0mctypes\u001b[0m\u001b[1;33m.\u001b[0m\u001b[0mCDLL\u001b[0m\u001b[1;33m(\u001b[0m\u001b[0mlib_path\u001b[0m\u001b[1;33m[\u001b[0m\u001b[1;36m0\u001b[0m\u001b[1;33m]\u001b[0m\u001b[1;33m,\u001b[0m \u001b[0mctypes\u001b[0m\u001b[1;33m.\u001b[0m\u001b[0mRTLD_LOCAL\u001b[0m\u001b[1;33m)\u001b[0m\u001b[1;33m\u001b[0m\u001b[0m\n\u001b[0m\u001b[0;32m    205\u001b[0m     \u001b[1;31m# DMatrix functions\u001b[0m\u001b[1;33m\u001b[0m\u001b[1;33m\u001b[0m\u001b[0m\n\u001b[0;32m    206\u001b[0m     \u001b[0mlib\u001b[0m\u001b[1;33m.\u001b[0m\u001b[0mMXGetLastError\u001b[0m\u001b[1;33m.\u001b[0m\u001b[0mrestype\u001b[0m \u001b[1;33m=\u001b[0m \u001b[0mctypes\u001b[0m\u001b[1;33m.\u001b[0m\u001b[0mc_char_p\u001b[0m\u001b[1;33m\u001b[0m\u001b[0m\n",
      "\u001b[1;32m~\\Anaconda3\\envs\\gluoncv\\lib\\ctypes\\__init__.py\u001b[0m in \u001b[0;36m__init__\u001b[1;34m(self, name, mode, handle, use_errno, use_last_error)\u001b[0m\n\u001b[0;32m    354\u001b[0m \u001b[1;33m\u001b[0m\u001b[0m\n\u001b[0;32m    355\u001b[0m         \u001b[1;32mif\u001b[0m \u001b[0mhandle\u001b[0m \u001b[1;32mis\u001b[0m \u001b[1;32mNone\u001b[0m\u001b[1;33m:\u001b[0m\u001b[1;33m\u001b[0m\u001b[0m\n\u001b[1;32m--> 356\u001b[1;33m             \u001b[0mself\u001b[0m\u001b[1;33m.\u001b[0m\u001b[0m_handle\u001b[0m \u001b[1;33m=\u001b[0m \u001b[0m_dlopen\u001b[0m\u001b[1;33m(\u001b[0m\u001b[0mself\u001b[0m\u001b[1;33m.\u001b[0m\u001b[0m_name\u001b[0m\u001b[1;33m,\u001b[0m \u001b[0mmode\u001b[0m\u001b[1;33m)\u001b[0m\u001b[1;33m\u001b[0m\u001b[0m\n\u001b[0m\u001b[0;32m    357\u001b[0m         \u001b[1;32melse\u001b[0m\u001b[1;33m:\u001b[0m\u001b[1;33m\u001b[0m\u001b[0m\n\u001b[0;32m    358\u001b[0m             \u001b[0mself\u001b[0m\u001b[1;33m.\u001b[0m\u001b[0m_handle\u001b[0m \u001b[1;33m=\u001b[0m \u001b[0mhandle\u001b[0m\u001b[1;33m\u001b[0m\u001b[0m\n",
      "\u001b[1;31mOSError\u001b[0m: [WinError 1455] 页面文件太小，无法完成操作。"
     ]
    }
   ],
   "source": [
    "from mxnet import gluon\n",
    "import numpy as np"
   ]
  },
  {
   "cell_type": "code",
   "execution_count": null,
   "metadata": {},
   "outputs": [],
   "source": [
    "class RPNAnchorGenerator(gluon.HybridBlock):\n",
    "    r\"\"\"Anchor generator for Region Proposal Netoworks.\n",
    "\n",
    "    Parameters\n",
    "    ----------\n",
    "    stride : int\n",
    "        Feature map stride with respect to original image.\n",
    "        This is usually the ratio between original image size and feature map size.\n",
    "    base_size : int\n",
    "        The width(and height) of reference anchor box.\n",
    "    ratios : iterable of float\n",
    "        The aspect ratios of anchor boxes. We expect it to be a list or tuple.\n",
    "    scales : iterable of float\n",
    "        The areas of anchor boxes.\n",
    "        We use the following form to compute the shapes of anchors:\n",
    "\n",
    "        .. math::\n",
    "\n",
    "            width_{anchor} = size_{base} \\times scale \\times \\sqrt{ 1 / ratio}\n",
    "            height_{anchor} = size_{base} \\times scale \\times \\sqrt{ratio}\n",
    "\n",
    "    alloc_size : tuple of int\n",
    "        Allocate size for the anchor boxes as (H, W).\n",
    "        Usually we generate enough anchors for large feature map, e.g. 128x128.\n",
    "        Later in inference we can have variable input sizes,\n",
    "        at which time we can crop corresponding anchors from this large\n",
    "        anchor map so we can skip re-generating anchors for each input.\n",
    "\n",
    "    \"\"\"\n",
    "\n",
    "    def __init__(self, stride, base_size, ratios, scales, alloc_size, **kwargs):\n",
    "        super(RPNAnchorGenerator, self).__init__(**kwargs)\n",
    "        if not base_size:\n",
    "            raise ValueError(\"Invalid base_size: {}.\".format(base_size))\n",
    "        if not isinstance(ratios, (tuple, list)):\n",
    "            ratios = [ratios]\n",
    "        if not isinstance(scales, (tuple, list)):\n",
    "            scales = [scales]\n",
    "\n",
    "        anchors = self._generate_anchors(\n",
    "            stride, base_size, ratios, scales, alloc_size)\n",
    "        self._num_depth = len(ratios) * len(scales)\n",
    "        self.anchors = self.params.get_constant('anchor_', anchors)\n",
    "\n",
    "    @property\n",
    "    def num_depth(self):\n",
    "        \"\"\"Number of anchors at each pixel.\"\"\"\n",
    "        return self._num_depth\n",
    "\n",
    "    def _generate_anchors(self, stride, base_size, ratios, scales, alloc_size):\n",
    "        \"\"\"Pre-generate all anchors.\"\"\"\n",
    "        # generate same shapes on every location\n",
    "        px, py = (base_size - 1) * 0.5, (base_size - 1) * 0.5\n",
    "        base_sizes = []\n",
    "        for r in ratios:\n",
    "            for s in scales:\n",
    "                size = base_size * base_size / r\n",
    "                ws = np.round(np.sqrt(size))\n",
    "                w = (ws * s - 1) * 0.5\n",
    "                h = (np.round(ws * r) * s - 1) * 0.5\n",
    "                base_sizes.append([px - w, py - h, px + w, py + h])\n",
    "        base_sizes = np.array(base_sizes)  # (N, 4)\n",
    "\n",
    "        # propagete to all locations by shifting offsets\n",
    "        height, width = alloc_size\n",
    "        offset_x = np.arange(0, width * stride, stride)\n",
    "        offset_y = np.arange(0, height * stride, stride)\n",
    "        offset_x, offset_y = np.meshgrid(offset_x, offset_y)\n",
    "        offsets = np.stack((offset_x.ravel(), offset_y.ravel(),\n",
    "                            offset_x.ravel(), offset_y.ravel()), axis=1)\n",
    "        # broadcast_add (1, N, 4) + (M, 1, 4)\n",
    "        anchors = (base_sizes.reshape((1, -1, 4)) +\n",
    "                   offsets.reshape((-1, 1, 4)))\n",
    "        anchors = anchors.reshape((1, 1, height, width, -1)).astype(np.float32)\n",
    "        return anchors\n",
    "\n",
    "    # pylint: disable=arguments-differ\n",
    "    def hybrid_forward(self, F, x, anchors):\n",
    "        \"\"\"Slice anchors given the input image shape.\n",
    "\n",
    "        Inputs:\n",
    "            - **x**: input tensor with (1 x C x H x W) shape.\n",
    "        Outputs:\n",
    "            - **out**: output anchor with (1, N, 4) shape. N is the number of anchors.\n",
    "\n",
    "        \"\"\"\n",
    "        a = F.slice_like(anchors, x * 0, axes=(2, 3))\n",
    "        return a.reshape((1, -1, 4))"
   ]
  }
 ],
 "metadata": {
  "kernelspec": {
   "display_name": "gluoncv",
   "language": "python",
   "name": "gluoncv"
  },
  "language_info": {
   "codemirror_mode": {
    "name": "ipython",
    "version": 3
   },
   "file_extension": ".py",
   "mimetype": "text/x-python",
   "name": "python",
   "nbconvert_exporter": "python",
   "pygments_lexer": "ipython3",
   "version": "3.7.0"
  }
 },
 "nbformat": 4,
 "nbformat_minor": 2
}
