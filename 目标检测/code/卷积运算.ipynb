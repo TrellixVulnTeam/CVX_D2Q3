{
 "cells": [
  {
   "cell_type": "markdown",
   "metadata": {},
   "source": [
    "## 二维卷积运算"
   ]
  },
  {
   "cell_type": "code",
   "execution_count": 1,
   "metadata": {
    "ExecuteTime": {
     "end_time": "2018-11-21T05:57:42.855821Z",
     "start_time": "2018-11-21T05:57:42.850843Z"
    }
   },
   "outputs": [],
   "source": [
    "import numpy as np\n",
    "from copy import deepcopy\n",
    "\n",
    "\n",
    "def corr2d(X, K):\n",
    "    '''\n",
    "    2D 卷积运算（实际是互相关）\n",
    "    '''\n",
    "    h, w = K.shape\n",
    "    Y = np.zeros((X.shape[0] - h + 1, X.shape[1] - w + 1))\n",
    "    for i in range(Y.shape[0]):\n",
    "        for j in range(Y.shape[1]):\n",
    "            Y[i, j] = (X[i:i + h, j:j + w] * K).sum()\n",
    "    return Y"
   ]
  },
  {
   "cell_type": "markdown",
   "metadata": {},
   "source": [
    "我们可以构造输入数组 $X$、核数组 $K$ 来验证二维互相关运算的输出："
   ]
  },
  {
   "cell_type": "code",
   "execution_count": 2,
   "metadata": {
    "ExecuteTime": {
     "end_time": "2018-11-21T05:57:45.399159Z",
     "start_time": "2018-11-21T05:57:45.385163Z"
    }
   },
   "outputs": [
    {
     "data": {
      "text/plain": [
       "array([[83., 44., 44.],\n",
       "       [43., 94., 79.],\n",
       "       [77., 42., 74.]])"
      ]
     },
     "execution_count": 2,
     "metadata": {},
     "output_type": "execute_result"
    }
   ],
   "source": [
    "X = np.array([[7, 1, 4, 3], [3, 9, 5, 1], [5, 1, 8, 9], [7, 9, 3, 1]])\n",
    "K = np.array([[7, 1], [2, 3]])\n",
    "\n",
    "corr2d(X, K)"
   ]
  },
  {
   "cell_type": "markdown",
   "metadata": {},
   "source": [
    "为了提高运算速度，我们可用矩阵乘法来计算卷积："
   ]
  },
  {
   "cell_type": "code",
   "execution_count": 17,
   "metadata": {
    "ExecuteTime": {
     "end_time": "2018-11-21T06:03:52.457211Z",
     "start_time": "2018-11-21T06:03:52.449207Z"
    },
    "code_folding": []
   },
   "outputs": [],
   "source": [
    "class Exchange:\n",
    "    def exchangeTwo(self, L, i=0, j=-1):\n",
    "        '''\n",
    "        交换列表中的元素顺序\n",
    "        '''\n",
    "        L[i], L[j] = L[j], L[i]\n",
    "\n",
    "    def loopInterchange(self, L, offset=0):\n",
    "        '''\n",
    "        循环列表\n",
    "        '''\n",
    "        n = len(L)\n",
    "        assert offset < n\n",
    "        for i in range(n):\n",
    "            self.exchangeTwo(L, offset, i)\n",
    "\n",
    "    def corr2d(self, X, K):\n",
    "        '''\n",
    "        使用矩阵乘法计算 2D 卷积\n",
    "        '''\n",
    "        X_ = X.flatten()\n",
    "        h, w = K.shape\n",
    "        A = np.zeros_like(X)\n",
    "        A[:w, :h] = K\n",
    "        A_ = A.flatten().tolist()\n",
    "        h_ = X.shape[0] - h + 1\n",
    "        w_ = X.shape[1] - w+1\n",
    "        L = deepcopy(A_)\n",
    "        M = []\n",
    "        for i in range(w_):\n",
    "            for j in range(w_):\n",
    "                M.append(deepcopy(L))\n",
    "                self.loopInterchange(L)\n",
    "                continue\n",
    "            self.loopInterchange(L)\n",
    "        Y = np.dot(np.array(M), X_)\n",
    "        Y_ = Y.reshape((h_, w_))\n",
    "        return Y_"
   ]
  },
  {
   "cell_type": "code",
   "execution_count": 18,
   "metadata": {
    "ExecuteTime": {
     "end_time": "2018-11-21T06:03:52.829206Z",
     "start_time": "2018-11-21T06:03:52.826205Z"
    }
   },
   "outputs": [],
   "source": [
    "ex = Exchange()"
   ]
  },
  {
   "cell_type": "code",
   "execution_count": 19,
   "metadata": {
    "ExecuteTime": {
     "end_time": "2018-11-21T06:03:53.302238Z",
     "start_time": "2018-11-21T06:03:53.295203Z"
    }
   },
   "outputs": [
    {
     "data": {
      "text/plain": [
       "array([[83, 44, 44],\n",
       "       [43, 94, 79],\n",
       "       [77, 42, 74]])"
      ]
     },
     "execution_count": 19,
     "metadata": {},
     "output_type": "execute_result"
    }
   ],
   "source": [
    "ex.corr2d(X, K)"
   ]
  },
  {
   "cell_type": "code",
   "execution_count": null,
   "metadata": {},
   "outputs": [],
   "source": []
  }
 ],
 "metadata": {
  "kernelspec": {
   "display_name": "Python [conda root]",
   "language": "python",
   "name": "conda-root-py"
  },
  "language_info": {
   "codemirror_mode": {
    "name": "ipython",
    "version": 3
   },
   "file_extension": ".py",
   "mimetype": "text/x-python",
   "name": "python",
   "nbconvert_exporter": "python",
   "pygments_lexer": "ipython3",
   "version": "3.6.5"
  },
  "latex_envs": {
   "LaTeX_envs_menu_present": true,
   "autoclose": false,
   "autocomplete": true,
   "bibliofile": "biblio.bib",
   "cite_by": "apalike",
   "current_citInitial": 1,
   "eqLabelWithNumbers": true,
   "eqNumInitial": 1,
   "hotkeys": {
    "equation": "Ctrl-E",
    "itemize": "Ctrl-I"
   },
   "labels_anchors": false,
   "latex_user_defs": false,
   "report_style_numbering": false,
   "user_envs_cfg": false
  },
  "nbTranslate": {
   "displayLangs": [
    "*"
   ],
   "hotkey": "alt-t",
   "langInMainMenu": true,
   "sourceLang": "en",
   "targetLang": "fr",
   "useGoogleTranslate": true
  },
  "toc": {
   "base_numbering": 1,
   "nav_menu": {},
   "number_sections": true,
   "sideBar": true,
   "skip_h1_title": false,
   "title_cell": "Table of Contents",
   "title_sidebar": "Contents",
   "toc_cell": false,
   "toc_position": {},
   "toc_section_display": true,
   "toc_window_display": false
  },
  "varInspector": {
   "cols": {
    "lenName": 16,
    "lenType": 16,
    "lenVar": 40
   },
   "kernels_config": {
    "python": {
     "delete_cmd_postfix": "",
     "delete_cmd_prefix": "del ",
     "library": "var_list.py",
     "varRefreshCmd": "print(var_dic_list())"
    },
    "r": {
     "delete_cmd_postfix": ") ",
     "delete_cmd_prefix": "rm(",
     "library": "var_list.r",
     "varRefreshCmd": "cat(var_dic_list()) "
    }
   },
   "types_to_exclude": [
    "module",
    "function",
    "builtin_function_or_method",
    "instance",
    "_Feature"
   ],
   "window_display": false
  }
 },
 "nbformat": 4,
 "nbformat_minor": 2
}
