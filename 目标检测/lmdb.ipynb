{
 "cells": [
  {
   "cell_type": "code",
   "execution_count": 5,
   "metadata": {
    "scrolled": true
   },
   "outputs": [],
   "source": [
    "import lmdb\n",
    "import os"
   ]
  },
  {
   "cell_type": "markdown",
   "metadata": {},
   "source": [
    "# 操作 LMDB 的流程\n",
    "\n",
    "- 通过 `env = lmdb.open()` 打开环境\n",
    "- 通过 `txn = env.begin()` 建立事务\n",
    "- 通过 `txn.put(key, value)` 进行插入和修改\n",
    "- 通过 `txn.delete(key)` 进行删除\n",
    "- 通过 `txn.get(key)` 进行查询\n",
    "- 通过 `txn.cursor()` 进行遍历\n",
    "- 通过 `txn.commit()` 提交更改"
   ]
  },
  {
   "cell_type": "code",
   "execution_count": 6,
   "metadata": {},
   "outputs": [],
   "source": [
    "root = 'D:/datasets/monkey'"
   ]
  },
  {
   "cell_type": "markdown",
   "metadata": {},
   "source": [
    "查看当前文件："
   ]
  },
  {
   "cell_type": "code",
   "execution_count": 7,
   "metadata": {},
   "outputs": [
    {
     "data": {
      "text/plain": [
       "['monkey_labels.txt', 'training', 'validation']"
      ]
     },
     "execution_count": 7,
     "metadata": {},
     "output_type": "execute_result"
    }
   ],
   "source": [
    "os.listdir(root)"
   ]
  },
  {
   "cell_type": "code",
   "execution_count": 8,
   "metadata": {},
   "outputs": [],
   "source": [
    "env = lmdb.open(root)"
   ]
  },
  {
   "cell_type": "markdown",
   "metadata": {},
   "source": [
    "查看当前文件变化："
   ]
  },
  {
   "cell_type": "code",
   "execution_count": 9,
   "metadata": {},
   "outputs": [
    {
     "data": {
      "text/plain": [
       "['data.mdb', 'lock.mdb', 'monkey_labels.txt', 'training', 'validation']"
      ]
     },
     "execution_count": 9,
     "metadata": {},
     "output_type": "execute_result"
    }
   ],
   "source": [
    "os.listdir(root)"
   ]
  },
  {
   "cell_type": "markdown",
   "metadata": {},
   "source": [
    "多了 `'data.mdb', 'lock.mdb'` 这两个文件。\n",
    "\n",
    "# 插入、删除、修改\n",
    "\n",
    "插入与修改都用 `put` 实现，删除用 `delete` 实现。\n",
    "\n",
    "使用 `env.begin` 创建事务时，只有 `write=True` 才能够写数据库："
   ]
  },
  {
   "cell_type": "code",
   "execution_count": 10,
   "metadata": {},
   "outputs": [],
   "source": [
    "txn = env.begin(write=True)\n",
    "\n",
    "txn.put(b'1', b\"Alice\")\n",
    "txn.put(b'2', b\"Bob\")\n",
    "txn.put(b'3', b\"Peter\")\n",
    "\n",
    "txn.delete(b'1')\n",
    "\n",
    "txn.put(b'3', b\"Mark\")\n",
    "\n",
    "txn.commit()"
   ]
  },
  {
   "cell_type": "markdown",
   "metadata": {},
   "source": [
    "# 查询\n",
    "\n",
    "查单条记录用 `get(key)`，遍历数据库用 `cursor`。"
   ]
  },
  {
   "cell_type": "code",
   "execution_count": 11,
   "metadata": {},
   "outputs": [
    {
     "name": "stdout",
     "output_type": "stream",
     "text": [
      "b'Bob'\n",
      "b'2' b'Bob'\n",
      "b'3' b'Mark'\n"
     ]
    }
   ],
   "source": [
    "txn = env.begin()\n",
    "print(txn.get(b'2'))\n",
    "\n",
    "for key, value in txn.cursor():\n",
    "    print(key, value)"
   ]
  },
  {
   "cell_type": "code",
   "execution_count": 5,
   "metadata": {},
   "outputs": [],
   "source": [
    "import lmdb\n",
    "\n",
    "class LmdbProgress:\n",
    "    def __init__(self, root):\n",
    "        self.root = root\n",
    "        self.env = lmdb.open(self.root)\n",
    "        \n",
    "    def context(self):\n",
    "        return self.env.begin(write = True) # 创建事务，并写入\n",
    "        \n",
    "    def toByte(self, inputs):\n",
    "        if isinstance(inputs, int):\n",
    "            return str(inputs).encode()\n",
    "        elif isinstance(inputs, bytes):\n",
    "            return inputs\n",
    "        else:\n",
    "            return inputs.encode()\n",
    "        \n",
    "    def insert(self, sid, name):\n",
    "        sid = self.toByte(sid)\n",
    "        name = self.toByte(name)\n",
    "        txn = self.context()\n",
    "        txn.put(sid, name)\n",
    "        txn.commit()\n",
    "        \n",
    "    def delete(self, sid):\n",
    "        txn = self.context()\n",
    "        sid = self.toByte(sid)\n",
    "        txn.delete(sid)\n",
    "        txn.commit()\n",
    "        \n",
    "    def update(self, sid, name):\n",
    "        txn = self.context()\n",
    "        sid = self.toByte(sid)\n",
    "        name = self.toByte(name)\n",
    "        txn.put(sid, name)\n",
    "        txn.commit()\n",
    "\n",
    "    def search(self, sid):\n",
    "        txn = self.env.begin()\n",
    "        sid = self.toByte(sid)\n",
    "        name = txn.get(sid)\n",
    "        return name\n",
    "\n",
    "    def display(self):\n",
    "        txn = self.env.begin()\n",
    "        cur = txn.cursor()\n",
    "        for key, value in cur:\n",
    "            print((key, value))\n",
    "            \n",
    "    def close(self):\n",
    "        self.env.close()\n",
    "        \n",
    "    def reinit(self):\n",
    "        '''\n",
    "        重新打开 lmdb\n",
    "        '''\n",
    "        self.env = lmdb.open(self.root)"
   ]
  },
  {
   "cell_type": "code",
   "execution_count": 43,
   "metadata": {},
   "outputs": [],
   "source": [
    "root = '../data/draft'\n",
    "db = LmdbProgress(root)  # 初始化一个 db"
   ]
  },
  {
   "cell_type": "code",
   "execution_count": 44,
   "metadata": {},
   "outputs": [
    {
     "name": "stdout",
     "output_type": "stream",
     "text": [
      "Insert 3 records.\n",
      "(b'1', b'Alice')\n",
      "(b'2', b'Bob')\n",
      "(b'3', b'Peter')\n"
     ]
    }
   ],
   "source": [
    "print(\"Insert 3 records.\")\n",
    "db.insert(1, \"Alice\")\n",
    "db.insert(2, \"Bob\")\n",
    "db.insert(3, \"Peter\")\n",
    "db.display()"
   ]
  },
  {
   "cell_type": "code",
   "execution_count": 45,
   "metadata": {},
   "outputs": [
    {
     "name": "stdout",
     "output_type": "stream",
     "text": [
      "Delete the record where sid = 1.\n",
      "(b'2', b'Bob')\n",
      "(b'3', b'Peter')\n"
     ]
    }
   ],
   "source": [
    "print(\"Delete the record where sid = 1.\")\n",
    "db.delete(1)\n",
    "db.display()"
   ]
  },
  {
   "cell_type": "code",
   "execution_count": 46,
   "metadata": {},
   "outputs": [
    {
     "name": "stdout",
     "output_type": "stream",
     "text": [
      "Update the record where sid = 3.\n",
      "(b'2', b'Bob')\n",
      "(b'3', b'Mark')\n"
     ]
    }
   ],
   "source": [
    "print(\"Update the record where sid = 3.\")\n",
    "db.update(3, \"Mark\")\n",
    "db.display()"
   ]
  },
  {
   "cell_type": "code",
   "execution_count": 47,
   "metadata": {},
   "outputs": [
    {
     "name": "stdout",
     "output_type": "stream",
     "text": [
      "Get the name of student whose sid = 3.\n",
      "b'Mark'\n"
     ]
    }
   ],
   "source": [
    "print(\"Get the name of student whose sid = 3.\")\n",
    "name = db.search(3)\n",
    "print(name)"
   ]
  },
  {
   "cell_type": "markdown",
   "metadata": {},
   "source": [
    "关闭 lmdb"
   ]
  },
  {
   "cell_type": "code",
   "execution_count": 48,
   "metadata": {},
   "outputs": [],
   "source": [
    "db.env.close()"
   ]
  },
  {
   "cell_type": "code",
   "execution_count": 49,
   "metadata": {},
   "outputs": [],
   "source": [
    "db.reinit() # 再次打开"
   ]
  },
  {
   "cell_type": "markdown",
   "metadata": {},
   "source": [
    "上面的准备工作已经做完，下面讨论如何将目标检测数据集转换为 lmdb 格式。"
   ]
  },
  {
   "cell_type": "code",
   "execution_count": 6,
   "metadata": {},
   "outputs": [],
   "source": [
    "root = '../data/draft'\n",
    "db = LmdbProgress(root)"
   ]
  },
  {
   "cell_type": "code",
   "execution_count": 7,
   "metadata": {},
   "outputs": [],
   "source": [
    "import os"
   ]
  },
  {
   "cell_type": "code",
   "execution_count": 11,
   "metadata": {},
   "outputs": [],
   "source": [
    "def make_dir(root, dir_name):\n",
    "    '''\n",
    "    在 root 下生成目录\n",
    "    '''\n",
    "    _dir = root + dir_name + \"/\"  # 拼出分完整目录名\n",
    "    if not os.path.exists(_dir):  # 是否存在目录，如果没有创建\n",
    "        os.makedirs(_dir)\n",
    "    return _dir\n",
    "\n",
    "\n",
    "def get_dir_names(root):\n",
    "    dir_names = []\n",
    "    for k in os.listdir(root):\n",
    "        if os.path.isdir(root + k):  # 判断是否是目录\n",
    "            dir_names.append(root + k)\n",
    "    return dir_names"
   ]
  },
  {
   "cell_type": "code",
   "execution_count": null,
   "metadata": {},
   "outputs": [],
   "source": [
    "class DetLmdb:\n",
    "    def __init__(self, root):\n",
    "        self.trainX = LmdbProgress(make_dir(root, 'trainX'))\n",
    "        self.trainYX = LmdbProgress(make_dir(root, 'trainY'))\n",
    "        self.valX = LmdbProgress(make_dir(root, 'valX'))\n",
    "        self.valY = LmdbProgress(make_dir(root, 'valY'))"
   ]
  },
  {
   "cell_type": "code",
   "execution_count": null,
   "metadata": {},
   "outputs": [],
   "source": []
  },
  {
   "cell_type": "code",
   "execution_count": null,
   "metadata": {},
   "outputs": [],
   "source": []
  },
  {
   "cell_type": "code",
   "execution_count": null,
   "metadata": {},
   "outputs": [],
   "source": [
    "def img2lmdb():\n",
    "    # 创建数据库文件\n",
    "    env = lmdb.open(cfg.dataset, max_dbs=4, map_size=1e12) # map_size 表示最大的存储尺寸\n",
    "    # 创建对应的数据库\n",
    "    train_data = env.open_db(\"train_data\")\n",
    "    train_label = env.open_db(\"train_label\")\n",
    "    val_data = env.open_db(\"val_data\")\n",
    "    val_label = env.open_db(\"val_label\")\n",
    "    train_image_list, train_label_list = get_image_label_list(train=True)\n",
    "    val_image_list, val_label_list = get_image_label_list(train=False)\n",
    "    # 把图像数据写入到LMDB中\n",
    "    with env.begin(write=True) as txn:\n",
    "        for idx, path in enumerate(train_image_list):\n",
    "            logging.debug(\"{} {}\".format(idx, path))\n",
    "            data = read_fixed_image(path)\n",
    "            txn.put(str(idx), data, db=train_data)\n",
    "\n",
    "        for idx, path in enumerate(train_label_list):\n",
    "            logging.debug(\"{} {}\".format(idx, path))\n",
    "            data = read_fixed_label(path)\n",
    "            txn.put(str(idx), data, db=train_label)\n",
    "\n",
    "        for idx, path in enumerate(val_image_list):\n",
    "            logging.debug(\"{} {}\".format(idx, path))\n",
    "            data = read_fixed_image(path)\n",
    "            txn.put(str(idx), data, db=val_data)\n",
    "\n",
    "        for idx, path in enumerate(val_label_list):\n",
    "            logging.debug(\"{} {}\".format(idx, path))\n",
    "            data = read_fixed_label(path)\n",
    "            txn.put(str(idx), data, db=val_label)"
   ]
  }
 ],
 "metadata": {
  "kernelspec": {
   "display_name": "Python 3",
   "language": "python",
   "name": "python3"
  },
  "language_info": {
   "codemirror_mode": {
    "name": "ipython",
    "version": 3
   },
   "file_extension": ".py",
   "mimetype": "text/x-python",
   "name": "python",
   "nbconvert_exporter": "python",
   "pygments_lexer": "ipython3",
   "version": "3.7.1"
  }
 },
 "nbformat": 4,
 "nbformat_minor": 2
}
