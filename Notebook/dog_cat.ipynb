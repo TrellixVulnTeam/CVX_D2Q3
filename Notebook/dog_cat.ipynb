{
 "cells": [
  {
   "cell_type": "code",
   "execution_count": 1,
   "metadata": {
    "ExecuteTime": {
     "end_time": "2019-01-16T07:03:21.719626Z",
     "start_time": "2019-01-16T07:03:16.771091Z"
    }
   },
   "outputs": [],
   "source": [
    "import zipfile  # 处理压缩文件\n",
    "import os\n",
    "\n",
    "import pandas as pd  # 处理 csv 文件\n",
    "import numpy as np\n",
    "from matplotlib import pyplot as plt\n",
    "\n",
    "# ----- 自定义模块\n",
    "from utils.zipimage import AnnZ, ImageZ, Loader, Dataset\n",
    "%matplotlib inline"
   ]
  },
  {
   "cell_type": "code",
   "execution_count": null,
   "metadata": {},
   "outputs": [],
   "source": [
    "root = \n",
    "\n",
    "def unzip(root):\n",
    "    # 解压 all.zip 数据集，并删除 all.zip\n",
    "    source_path = os.path.join(root, 'all.zip')\n",
    "\n",
    "    with zipfile.ZipFile(source_path) as fp:\n",
    "        fp.extractall(root)\n",
    "    os.remove(source_path)\n",
    "        \n",
    "unzip(root)"
   ]
  },
  {
   "cell_type": "code",
   "execution_count": null,
   "metadata": {
    "ExecuteTime": {
     "end_time": "2019-01-05T11:27:56.492057Z",
     "start_time": "2019-01-05T11:27:56.396048Z"
    }
   },
   "outputs": [],
   "source": [
    "root = 'E:\\Data\\Kaggle\\dog_cat'\n",
    "\"\"\"\n",
    "\n",
    "\"\"\"\n",
    "\n",
    "os.listdir(root)"
   ]
  },
  {
   "cell_type": "code",
   "execution_count": null,
   "metadata": {
    "ExecuteTime": {
     "end_time": "2019-01-05T11:27:57.489192Z",
     "start_time": "2019-01-05T11:27:57.342918Z"
    }
   },
   "outputs": [],
   "source": [
    "submit = pd.read_csv(os.path.join(root, 'sampleSubmission.csv'))\n",
    "submit.head()"
   ]
  },
  {
   "cell_type": "code",
   "execution_count": null,
   "metadata": {
    "ExecuteTime": {
     "end_time": "2019-01-05T11:29:27.628844Z",
     "start_time": "2019-01-05T11:29:27.624066Z"
    }
   },
   "outputs": [],
   "source": [
    "class TrainSet(ImageZ):\n",
    "    def __init__(self, root, dataType):\n",
    "        super().__init__(root, dataType)\n",
    "        self._get_class_file()\n",
    "    def _get_class_file(self):\n",
    "        class_names = set([os.path.split(name)[-1].split('.')[0] for name in trainZ.names])\n",
    "        self.class_file = {name:{} for name in class_names}\n",
    "        for name in trainZ.names:\n",
    "            class_name, idx, _ = os.path.split(name)[-1].split('.')\n",
    "            self.class_file[class_name][int(idx)] = self.class_file[class_name].get(\n",
    "                int(idx), name)\n",
    "        self.class_names = tuple(class_names)"
   ]
  },
  {
   "cell_type": "code",
   "execution_count": null,
   "metadata": {
    "ExecuteTime": {
     "end_time": "2019-01-05T11:29:29.621719Z",
     "start_time": "2019-01-05T11:29:29.215257Z"
    }
   },
   "outputs": [],
   "source": [
    "trainZ = TrainSet(root, 'train')"
   ]
  },
  {
   "cell_type": "code",
   "execution_count": null,
   "metadata": {
    "ExecuteTime": {
     "end_time": "2019-01-05T11:29:35.921719Z",
     "start_time": "2019-01-05T11:29:35.907718Z"
    }
   },
   "outputs": [],
   "source": [
    "cat = []\n",
    "for idx in sorted(trainZ.class_file['cat']):\n",
    "    cat.append((trainZ.class_file['cat'][idx], 'cat'))"
   ]
  },
  {
   "cell_type": "code",
   "execution_count": null,
   "metadata": {
    "ExecuteTime": {
     "end_time": "2019-01-05T11:29:38.364594Z",
     "start_time": "2019-01-05T11:29:38.358517Z"
    },
    "scrolled": true
   },
   "outputs": [],
   "source": [
    "trainZ.class_file['cat'][11]"
   ]
  },
  {
   "cell_type": "code",
   "execution_count": null,
   "metadata": {
    "ExecuteTime": {
     "end_time": "2019-01-05T11:51:42.611055Z",
     "start_time": "2019-01-05T11:51:42.606056Z"
    }
   },
   "outputs": [],
   "source": [
    "from keras.preprocessing import image as kimage\n",
    "from keras.applications.inception_v3 import preprocess_input\n",
    "from keras.applications import InceptionV3\n",
    "from keras.models import Model\n",
    "from keras.layers import Dense, GlobalAveragePooling2D"
   ]
  },
  {
   "cell_type": "code",
   "execution_count": null,
   "metadata": {
    "ExecuteTime": {
     "end_time": "2019-01-05T12:01:23.359583Z",
     "start_time": "2019-01-05T12:01:23.355755Z"
    }
   },
   "outputs": [],
   "source": [
    "datagen = kimage.ImageDataGenerator(\n",
    "    featurewise_center=True,\n",
    "    featurewise_std_normalization=True,\n",
    "    rotation_range=20,\n",
    "    width_shift_range=0.2,\n",
    "    height_shift_range=0.2,\n",
    "    horizontal_flip=True)"
   ]
  },
  {
   "cell_type": "code",
   "execution_count": null,
   "metadata": {
    "ExecuteTime": {
     "end_time": "2019-01-05T11:49:15.337497Z",
     "start_time": "2019-01-05T11:48:55.652297Z"
    }
   },
   "outputs": [],
   "source": [
    "base_model = InceptionV3(weights='imagenet', include_top=False)"
   ]
  },
  {
   "cell_type": "code",
   "execution_count": null,
   "metadata": {
    "ExecuteTime": {
     "end_time": "2019-01-05T11:50:20.751359Z",
     "start_time": "2019-01-05T11:50:20.744388Z"
    }
   },
   "outputs": [],
   "source": [
    "def add_new_last_layer(base_model, nb_classes):\n",
    "    \"\"\"Add last layer to the convnet\n",
    "    Args:\n",
    "      base_model: keras model excluding top\n",
    "      nb_classes: # of classes\n",
    "    Returns:\n",
    "      new keras model with last layer\n",
    "    \"\"\"\n",
    "    x = base_model.output\n",
    "    x = GlobalAveragePooling2D()(x)\n",
    "    x = Dense(FC_SIZE, activation='relu')(x)\n",
    "    predictions = Dense(nb_classes, activation='softmax')(x)\n",
    "    model = Model(input=base_model.input, output=predictions)\n",
    "    return model\n",
    "\n",
    "\n",
    "# 迁移学习\n",
    "def setup_to_transfer_learn(model, base_model):\n",
    "    \"\"\"Freeze all layers and compile the model\"\"\"\n",
    "    for layer in base_model.layers:\n",
    "        layer.trainable = False\n",
    "    model.compile(optimizer='rmsprop',\n",
    "                  loss='categorical_crossentropy',\n",
    "                  metrics=['accuracy'])\n",
    "\n",
    "    \n",
    "# 微调\n",
    "def setup_to_finetune(model):\n",
    "    \"\"\"Freeze the bottom NB_IV3_LAYERS and retrain the remaining top \n",
    "       layers.\n",
    "    note: NB_IV3_LAYERS corresponds to the top 2 inception blocks in \n",
    "          the inceptionv3 architecture\n",
    "    Args:\n",
    "      model: keras model\n",
    "    \"\"\"\n",
    "    for layer in model.layers[:NB_IV3_LAYERS_TO_FREEZE]:\n",
    "        layer.trainable = False\n",
    "    for layer in model.layers[NB_IV3_LAYERS_TO_FREEZE:]:\n",
    "        layer.trainable = True\n",
    "    model.compile(optimizer=SGD(lr=0.0001, momentum=0.9),\n",
    "                  loss='categorical_crossentropy')"
   ]
  },
  {
   "cell_type": "code",
   "execution_count": null,
   "metadata": {},
   "outputs": [],
   "source": []
  }
 ],
 "metadata": {
  "kernelspec": {
   "display_name": "Python [conda root]",
   "language": "python",
   "name": "conda-root-py"
  },
  "language_info": {
   "codemirror_mode": {
    "name": "ipython",
    "version": 3
   },
   "file_extension": ".py",
   "mimetype": "text/x-python",
   "name": "python",
   "nbconvert_exporter": "python",
   "pygments_lexer": "ipython3",
   "version": "3.6.5"
  },
  "latex_envs": {
   "LaTeX_envs_menu_present": true,
   "autoclose": false,
   "autocomplete": true,
   "bibliofile": "biblio.bib",
   "cite_by": "apalike",
   "current_citInitial": 1,
   "eqLabelWithNumbers": true,
   "eqNumInitial": 1,
   "hotkeys": {
    "equation": "Ctrl-E",
    "itemize": "Ctrl-I"
   },
   "labels_anchors": false,
   "latex_user_defs": false,
   "report_style_numbering": false,
   "user_envs_cfg": false
  },
  "nbTranslate": {
   "displayLangs": [
    "*"
   ],
   "hotkey": "alt-t",
   "langInMainMenu": true,
   "sourceLang": "en",
   "targetLang": "fr",
   "useGoogleTranslate": true
  },
  "toc": {
   "base_numbering": 1,
   "nav_menu": {},
   "number_sections": true,
   "sideBar": true,
   "skip_h1_title": false,
   "title_cell": "Table of Contents",
   "title_sidebar": "Contents",
   "toc_cell": false,
   "toc_position": {},
   "toc_section_display": true,
   "toc_window_display": false
  },
  "varInspector": {
   "cols": {
    "lenName": 16,
    "lenType": 16,
    "lenVar": 40
   },
   "kernels_config": {
    "python": {
     "delete_cmd_postfix": "",
     "delete_cmd_prefix": "del ",
     "library": "var_list.py",
     "varRefreshCmd": "print(var_dic_list())"
    },
    "r": {
     "delete_cmd_postfix": ") ",
     "delete_cmd_prefix": "rm(",
     "library": "var_list.r",
     "varRefreshCmd": "cat(var_dic_list()) "
    }
   },
   "types_to_exclude": [
    "module",
    "function",
    "builtin_function_or_method",
    "instance",
    "_Feature"
   ],
   "window_display": false
  }
 },
 "nbformat": 4,
 "nbformat_minor": 2
}
